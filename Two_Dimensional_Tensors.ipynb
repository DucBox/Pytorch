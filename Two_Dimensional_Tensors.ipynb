{
  "cells": [
    {
      "cell_type": "markdown",
      "metadata": {
        "id": "view-in-github",
        "colab_type": "text"
      },
      "source": [
        "<a href=\"https://colab.research.google.com/github/DucBox/Pytorch/blob/main/Two_Dimensional_Tensors.ipynb\" target=\"_parent\"><img src=\"https://colab.research.google.com/assets/colab-badge.svg\" alt=\"Open In Colab\"/></a>"
      ]
    },
    {
      "cell_type": "markdown",
      "metadata": {
        "id": "T0_tUcbwOd9e"
      },
      "source": [
        "<h1>Two-Dimensional Tensors</h1>\n"
      ]
    },
    {
      "cell_type": "markdown",
      "metadata": {
        "id": "ndsHqLxGOd9e"
      },
      "source": [
        "<h2>Objective</h2><ul><li> How to perform tensor operations on 2D tensors.</li></ul>\n"
      ]
    },
    {
      "cell_type": "markdown",
      "metadata": {
        "id": "-jPK7qUQOd9f"
      },
      "source": [
        "<h2>Table of Contents</h2>\n"
      ]
    },
    {
      "cell_type": "markdown",
      "metadata": {
        "id": "XOiQ7j6MOd9f"
      },
      "source": [
        "<p>In this lab, you will learn the basics of tensor operations on 2D tensors.</p>\n",
        "<ul>\n",
        "    <li><a href=\"#Types_Shape\">Types and Shape </a></li>\n",
        "    <li><a href=\"#Index_Slice\">Indexing and Slicing</a></li>\n",
        "    <li><a href=\"#Tensor_Op\">Tensor Operations</a></li>\n",
        "</ul>\n",
        "<hr>\n"
      ]
    },
    {
      "cell_type": "markdown",
      "metadata": {
        "id": "yQcbGIFyOd9f"
      },
      "source": [
        "<h2>Preparation</h2>\n"
      ]
    },
    {
      "cell_type": "markdown",
      "metadata": {
        "id": "MmU1-q6KOd9g"
      },
      "source": [
        "The following are the libraries we are going to use for this lab.\n"
      ]
    },
    {
      "cell_type": "code",
      "execution_count": null,
      "metadata": {
        "tags": [],
        "id": "bW5jaEQqOd9g"
      },
      "outputs": [],
      "source": [
        "# These are the libraries will be used for this lab.\n",
        "\n",
        "import numpy as np\n",
        "import matplotlib.pyplot as plt\n",
        "import torch\n",
        "import pandas as pd"
      ]
    },
    {
      "cell_type": "markdown",
      "metadata": {
        "id": "ifswCS74Od9i"
      },
      "source": [
        "<!--Empty Space for separating topics-->\n"
      ]
    },
    {
      "cell_type": "markdown",
      "metadata": {
        "id": "yjpUz1eAOd9i"
      },
      "source": [
        "<h2 id=\"Types_Shape\">Types and Shape</h2>\n"
      ]
    },
    {
      "cell_type": "markdown",
      "metadata": {
        "id": "wHcx7zEQOd9i"
      },
      "source": [
        "The methods and types for 2D tensors is similar to the methods and types for 1D tensors which has been introduced in <i>Previous Lab</i>.\n"
      ]
    },
    {
      "cell_type": "markdown",
      "metadata": {
        "id": "A4V4ymRwOd9j"
      },
      "source": [
        "Let us see how to convert a 2D list to a 2D tensor. First, let us create a 3X3 2D tensor. Then let us try to use <code>torch.tensor()</code> which we used for converting a 1D list to 1D tensor. Is it going to work?\n"
      ]
    },
    {
      "cell_type": "code",
      "execution_count": null,
      "metadata": {
        "tags": [],
        "id": "ZNdbuB_COd9j",
        "outputId": "4fb3f1d4-8d4e-4fef-8648-09213abf0c36"
      },
      "outputs": [
        {
          "name": "stdout",
          "output_type": "stream",
          "text": [
            "The New 2D Tensor:  tensor([[11, 12, 13],\n",
            "        [21, 22, 23],\n",
            "        [31, 32, 33]])\n"
          ]
        }
      ],
      "source": [
        "# Convert 2D List to 2D Tensor\n",
        "\n",
        "twoD_list = [[11, 12, 13], [21, 22, 23], [31, 32, 33]]\n",
        "twoD_tensor = torch.tensor(twoD_list)\n",
        "print(\"The New 2D Tensor: \", twoD_tensor)"
      ]
    },
    {
      "cell_type": "markdown",
      "metadata": {
        "id": "Hqg4J_E4Od9l"
      },
      "source": [
        "Let us try <code><i>tensor_obj</i>.ndimension()</code> (<code>tensor_obj</code>: This can be any tensor object), <code><i>tensor_obj</i>.shape</code>, and <code><i>tensor_obj</i>.size()</code>\n"
      ]
    },
    {
      "cell_type": "code",
      "execution_count": null,
      "metadata": {
        "tags": [],
        "id": "22Mzi-xVOd9l",
        "outputId": "23b47721-4e2c-4db0-f71b-7ddf868f1ee0"
      },
      "outputs": [
        {
          "name": "stdout",
          "output_type": "stream",
          "text": [
            "The dimension of twoD_tensor:  2\n",
            "The shape of twoD_tensor:  torch.Size([3, 3])\n",
            "The shape of twoD_tensor:  torch.Size([3, 3])\n",
            "The number of elements in twoD_tensor:  9\n"
          ]
        }
      ],
      "source": [
        "# Try tensor_obj.ndimension(), tensor_obj.shape, tensor_obj.size()\n",
        "\n",
        "print(\"The dimension of twoD_tensor: \", twoD_tensor.ndimension())\n",
        "print(\"The shape of twoD_tensor: \", twoD_tensor.shape)\n",
        "print(\"The shape of twoD_tensor: \", twoD_tensor.size())\n",
        "print(\"The number of elements in twoD_tensor: \", twoD_tensor.numel())"
      ]
    },
    {
      "cell_type": "markdown",
      "metadata": {
        "id": "--wBPXfwOd9l"
      },
      "source": [
        "Because it is a 2D 3X3 tensor,  the outputs are correct.\n"
      ]
    },
    {
      "cell_type": "markdown",
      "metadata": {
        "id": "XCBEjxZOOd9m"
      },
      "source": [
        "Now, let us try converting the tensor to a numpy array and convert the numpy array back to a tensor.\n"
      ]
    },
    {
      "cell_type": "code",
      "execution_count": null,
      "metadata": {
        "tags": [],
        "id": "b7Ol-J60Od9m",
        "outputId": "2a81b33c-2d07-45c7-94c2-a270f811abf1"
      },
      "outputs": [
        {
          "name": "stdout",
          "output_type": "stream",
          "text": [
            "Tensor -> Numpy Array:\n",
            "The numpy array after converting:  [[11 12 13]\n",
            " [21 22 23]\n",
            " [31 32 33]]\n",
            "Type after converting:  int64\n",
            "================================================\n",
            "Numpy Array -> Tensor:\n",
            "The tensor after converting: tensor([[11, 12, 13],\n",
            "        [21, 22, 23],\n",
            "        [31, 32, 33]])\n",
            "Type after converting:  torch.int64\n"
          ]
        }
      ],
      "source": [
        "# Convert tensor to numpy array; Convert numpy array to tensor\n",
        "\n",
        "twoD_numpy = twoD_tensor.numpy()\n",
        "print(\"Tensor -> Numpy Array:\")\n",
        "print(\"The numpy array after converting: \", twoD_numpy)\n",
        "print(\"Type after converting: \", twoD_numpy.dtype)\n",
        "\n",
        "print(\"================================================\")\n",
        "\n",
        "new_twoD_tensor = torch.from_numpy(twoD_numpy)\n",
        "print(\"Numpy Array -> Tensor:\")\n",
        "print(\"The tensor after converting:\", new_twoD_tensor)\n",
        "print(\"Type after converting: \", new_twoD_tensor.dtype)"
      ]
    },
    {
      "cell_type": "markdown",
      "metadata": {
        "id": "HTePD3drOd9m"
      },
      "source": [
        "The result shows the tensor has successfully been converted to a numpy array and then converted back to a tensor.\n"
      ]
    },
    {
      "cell_type": "markdown",
      "metadata": {
        "id": "TPVgoexUOd9n"
      },
      "source": [
        "Now let us try to convert a Pandas Dataframe to a tensor. The process is the  Same as the 1D conversion, we can obtain the numpy array via the attribute <code>values</code>. Then, we can use <code>torch.from_numpy()</code> to convert the value of the Pandas Series to a tensor.\n"
      ]
    },
    {
      "cell_type": "code",
      "execution_count": null,
      "metadata": {
        "tags": [],
        "id": "xvf0YEu6Od9n",
        "outputId": "af87d3ec-3958-48b6-8c3f-fce0b7c3a680"
      },
      "outputs": [
        {
          "name": "stdout",
          "output_type": "stream",
          "text": [
            "Pandas Dataframe to numpy:  [[ 11  12]\n",
            " [ 21  22]\n",
            " [ 31 312]]\n",
            "Type BEFORE converting:  int64\n",
            "================================================\n",
            "Tensor AFTER converting:  tensor([[ 11,  12],\n",
            "        [ 21,  22],\n",
            "        [ 31, 312]])\n",
            "Type AFTER converting:  torch.int64\n"
          ]
        }
      ],
      "source": [
        "# Try to convert the Panda Dataframe to tensor\n",
        "\n",
        "df = pd.DataFrame({'a':[11,21,31],'b':[12,22,312]})\n",
        "\n",
        "print(\"Pandas Dataframe to numpy: \", df.values)\n",
        "print(\"Type BEFORE converting: \", df.values.dtype)\n",
        "\n",
        "print(\"================================================\")\n",
        "\n",
        "new_tensor = torch.from_numpy(df.values)\n",
        "print(\"Tensor AFTER converting: \", new_tensor)\n",
        "print(\"Type AFTER converting: \", new_tensor.dtype)"
      ]
    },
    {
      "cell_type": "markdown",
      "metadata": {
        "id": "0JqpfnYjOd9o"
      },
      "source": [
        "<h3>Practice</h3>\n"
      ]
    },
    {
      "cell_type": "markdown",
      "metadata": {
        "id": "JvJ-cAUzOd9o"
      },
      "source": [
        "Try to convert the following Pandas Dataframe  to a tensor\n"
      ]
    },
    {
      "cell_type": "code",
      "execution_count": null,
      "metadata": {
        "tags": [],
        "id": "UA1f0QF2Od9o",
        "outputId": "bbdb810a-880d-48cc-a8fa-0ee724ec8ba8"
      },
      "outputs": [
        {
          "name": "stdout",
          "output_type": "stream",
          "text": [
            "tensor([[11,  3],\n",
            "        [33,  3],\n",
            "        [22,  2]])\n"
          ]
        }
      ],
      "source": [
        "# Practice: try to convert Pandas Series to tensor\n",
        "\n",
        "df = pd.DataFrame({'A':[11, 33, 22],'B':[3, 3, 2]})\n",
        "\n",
        "torch_tensor = torch.tensor(df.values)\n",
        "\n",
        "print(torch_tensor)"
      ]
    },
    {
      "cell_type": "markdown",
      "metadata": {
        "id": "vyxVoj1eOd9o"
      },
      "source": [
        "Double-click <b>here</b> for the solution.\n",
        "\n",
        "<!--\n",
        "converted_tensor = torch.tensor(df.values)\n",
        "print (\"Tensor: \", converted_tensor)\n",
        "-->\n"
      ]
    },
    {
      "cell_type": "markdown",
      "metadata": {
        "id": "mZ8GMKXAOd9p"
      },
      "source": [
        "<h2 id=\"Index_Slice\">Indexing and Slicing</h2>\n"
      ]
    },
    {
      "cell_type": "markdown",
      "metadata": {
        "id": "vOBjjNcROd9p"
      },
      "source": [
        "You can use rectangular brackets to access the different elements of the tensor. The correspondence between the rectangular brackets and the list and the rectangular representation is shown in the following figure for a 3X3 tensor:  \n"
      ]
    },
    {
      "cell_type": "markdown",
      "metadata": {
        "id": "Jug0YA4XOd9p"
      },
      "source": [
        "<img src=\"https://s3-api.us-geo.objectstorage.softlayer.net/cf-courses-data/CognitiveClass/DL0110EN/notebook_images%20/chapter%201/1.2index1.png\" width=\"500\" alt=\"Matrix Structure Introduce\">\n"
      ]
    },
    {
      "cell_type": "markdown",
      "metadata": {
        "id": "yfkPSa7dOd9p"
      },
      "source": [
        "You can access the 2nd-row 3rd-column as shown in the following figure:\n"
      ]
    },
    {
      "cell_type": "markdown",
      "metadata": {
        "id": "aEB5G_tmOd9p"
      },
      "source": [
        "<img src=\"https://s3-api.us-geo.objectstorage.softlayer.net/cf-courses-data/CognitiveClass/DL0110EN/notebook_images%20/chapter%201/1.2index.png\" width=\"500\" alt=\"Example of Matrix Index\">\n"
      ]
    },
    {
      "cell_type": "markdown",
      "metadata": {
        "id": "HhwarXcbOd9p"
      },
      "source": [
        "You simply use the square brackets and the indices corresponding to the element that you want.\n"
      ]
    },
    {
      "cell_type": "markdown",
      "metadata": {
        "id": "vbpU2hqxOd9q"
      },
      "source": [
        "Now, let us try to access the value on position 2nd-row 3rd-column. Remember that the index is always 1 less than how we count rows and columns. There are two ways to access the certain value of a tensor. The example in code will be the same as the example picture above.\n"
      ]
    },
    {
      "cell_type": "code",
      "execution_count": null,
      "metadata": {
        "tags": [],
        "id": "3HBFyqVNOd9q",
        "outputId": "b6ffd880-2e87-4a34-c90e-abe938e3f0b7"
      },
      "outputs": [
        {
          "name": "stdout",
          "output_type": "stream",
          "text": [
            "What is the value on 2nd-row 3rd-column?  tensor(23)\n",
            "What is the value on 2nd-row 3rd-column?  tensor(23)\n"
          ]
        }
      ],
      "source": [
        "# Use tensor_obj[row, column] and tensor_obj[row][column] to access certain position\n",
        "\n",
        "tensor_example = torch.tensor([[11, 12, 13], [21, 22, 23], [31, 32, 33]])\n",
        "print(\"What is the value on 2nd-row 3rd-column? \", tensor_example[1, 2])\n",
        "print(\"What is the value on 2nd-row 3rd-column? \", tensor_example[1][2])"
      ]
    },
    {
      "cell_type": "markdown",
      "metadata": {
        "id": "FRN096EZOd9y"
      },
      "source": [
        "As we can see, both methods return the true value (the same value as the picture above). Therefore, both of the methods work.\n"
      ]
    },
    {
      "cell_type": "markdown",
      "metadata": {
        "id": "kctvH6bkOd9z"
      },
      "source": [
        "<!--Empty Space for separating topics-->\n"
      ]
    },
    {
      "cell_type": "markdown",
      "metadata": {
        "id": "rztPNOnQOd9z"
      },
      "source": [
        "Consider the elements shown in the following figure:\n"
      ]
    },
    {
      "cell_type": "markdown",
      "metadata": {
        "id": "6kNyeq5eOd9z"
      },
      "source": [
        "<img src=\"https://s3-api.us-geo.objectstorage.softlayer.net/cf-courses-data/CognitiveClass/DL0110EN/notebook_images%20/chapter%201/1.2_index2.png\" width=\"500\" alt=\"Example of Matrix Index\">\n"
      ]
    },
    {
      "cell_type": "markdown",
      "metadata": {
        "id": "aFcOyipgOd9z"
      },
      "source": [
        "Use the method above, we can access the 1st-row 1st-column by <code>tensor_example[0][0]</code>\n"
      ]
    },
    {
      "cell_type": "code",
      "execution_count": null,
      "metadata": {
        "tags": [],
        "id": "XpQDLK7EOd90",
        "outputId": "1969a900-0ba4-40b1-c870-1fb97844536b"
      },
      "outputs": [
        {
          "data": {
            "text/plain": [
              "tensor(11)"
            ]
          },
          "execution_count": 10,
          "metadata": {},
          "output_type": "execute_result"
        }
      ],
      "source": [
        "tensor_example[0][0]"
      ]
    },
    {
      "cell_type": "markdown",
      "metadata": {
        "id": "2q9kdsvNOd90"
      },
      "source": [
        "But what if we want to get the value on both 1st-row 1st-column and 1st-row 2nd-column?\n"
      ]
    },
    {
      "cell_type": "markdown",
      "metadata": {
        "id": "O4XJW9BSOd90"
      },
      "source": [
        "You can also use slicing in a tensor. Consider the following figure. You want to obtain the 1st two columns in the 1st row:  \n"
      ]
    },
    {
      "cell_type": "markdown",
      "metadata": {
        "id": "-bua33gdOd90"
      },
      "source": [
        "<img src=\"https://s3-api.us-geo.objectstorage.softlayer.net/cf-courses-data/CognitiveClass/DL0110EN/notebook_images%20/chapter%201/1.2sliceing.png\" width=\"500\" alt=\"Example of Matrix Index and Slicing\">\n"
      ]
    },
    {
      "cell_type": "markdown",
      "metadata": {
        "id": "kUOj9papOd91"
      },
      "source": [
        "## Let us see how  we use slicing with 2D tensors to get the values in the above picture.\n"
      ]
    },
    {
      "cell_type": "code",
      "execution_count": null,
      "metadata": {
        "tags": [],
        "id": "ls2MVymlOd91",
        "outputId": "75b8f445-0fa5-41e0-f7b8-dc706fa07db8"
      },
      "outputs": [
        {
          "name": "stdout",
          "output_type": "stream",
          "text": [
            "What is the value on 1st-row first two columns?  tensor([11, 12])\n",
            "What is the value on 1st-row first two columns?  tensor([11, 12])\n"
          ]
        }
      ],
      "source": [
        "# Use tensor_obj[begin_row_number: end_row_number, begin_column_number: end_column number]\n",
        "# and tensor_obj[row][begin_column_number: end_column number] to do the slicing\n",
        "\n",
        "tensor_example = torch.tensor([[11, 12, 13], [21, 22, 23], [31, 32, 33]])\n",
        "print(\"What is the value on 1st-row first two columns? \", tensor_example[0, 0:2])\n",
        "print(\"What is the value on 1st-row first two columns? \", tensor_example[0][0:2])"
      ]
    },
    {
      "cell_type": "markdown",
      "metadata": {
        "id": "k4gTFUpFOd91"
      },
      "source": [
        "We get the result as <code>tensor([11, 12])</code> successfully.\n"
      ]
    },
    {
      "cell_type": "markdown",
      "metadata": {
        "id": "VbYrKFzsOd91"
      },
      "source": [
        "<!--Empty Space for separating topics-->\n"
      ]
    },
    {
      "cell_type": "markdown",
      "metadata": {
        "id": "9Z2SfQDCOd92"
      },
      "source": [
        "But we <b>can't</b> combine using slicing on row and pick one column by using the code <code>tensor_obj[begin_row_number: end_row_number][begin_column_number: end_column number]</code>. The reason is that the slicing will be applied on the tensor first. The result type will be a two dimension again. The second bracket will no longer represent the index of the column it will be the index of the row at that time. Let us see an example.\n"
      ]
    },
    {
      "cell_type": "code",
      "execution_count": null,
      "metadata": {
        "tags": [],
        "id": "8S7xauoVOd92",
        "outputId": "d83cdca4-ed72-4cec-9bb7-732978ba6f3c"
      },
      "outputs": [
        {
          "name": "stdout",
          "output_type": "stream",
          "text": [
            "1. Slicing step on tensor_example: \n",
            "Result after tensor_example[1:3]:  tensor([[21, 22, 23],\n",
            "        [31, 32, 33]])\n",
            "Dimension after tensor_example[1:3]:  2\n",
            "================================================\n",
            "2. Pick an index on sliced_tensor_example: \n",
            "Result after sliced_tensor_example[1]:  tensor([31, 32, 33])\n",
            "Dimension after sliced_tensor_example[1]:  1\n",
            "================================================\n",
            "3. Combine these step together:\n",
            "Result:  tensor([31, 32, 33])\n",
            "Dimension:  1\n"
          ]
        }
      ],
      "source": [
        "# Give an idea on tensor_obj[number: number][number]\n",
        "\n",
        "tensor_example = torch.tensor([[11, 12, 13], [21, 22, 23], [31, 32, 33]])\n",
        "sliced_tensor_example = tensor_example[1:3]\n",
        "print(\"1. Slicing step on tensor_example: \")\n",
        "print(\"Result after tensor_example[1:3]: \", sliced_tensor_example)\n",
        "print(\"Dimension after tensor_example[1:3]: \", sliced_tensor_example.ndimension())\n",
        "print(\"================================================\")\n",
        "print(\"2. Pick an index on sliced_tensor_example: \")\n",
        "print(\"Result after sliced_tensor_example[1]: \", sliced_tensor_example[1])\n",
        "print(\"Dimension after sliced_tensor_example[1]: \", sliced_tensor_example[1].ndimension())\n",
        "print(\"================================================\")\n",
        "print(\"3. Combine these step together:\")\n",
        "print(\"Result: \", tensor_example[1:3][1])\n",
        "print(\"Dimension: \", tensor_example[1:3][1].ndimension())"
      ]
    },
    {
      "cell_type": "markdown",
      "metadata": {
        "id": "1E51bkm6Od92"
      },
      "source": [
        "See the results and dimensions in 2 and 3 are the same. Both of them contains the 3rd row in the <code>tensor_example</code>, but not the last two values in the 3rd column.\n"
      ]
    },
    {
      "cell_type": "markdown",
      "metadata": {
        "id": "R8EgzVEQOd93"
      },
      "source": [
        "So how can we get the elements in the 3rd column with the last two rows? As the below picture.\n"
      ]
    },
    {
      "cell_type": "markdown",
      "metadata": {
        "id": "kNmorlxlOd93"
      },
      "source": [
        "<img src=\"https://s3-api.us-geo.objectstorage.softlayer.net/cf-courses-data/CognitiveClass/DL0110EN/notebook_images%20/chapter%201/1.2slicing2.png\" width=\"500\" alt=\"Example of Matrix Index and Slicing\">\n"
      ]
    },
    {
      "cell_type": "markdown",
      "metadata": {
        "id": "-PgAvwWpOd93"
      },
      "source": [
        "Let's see the code below.\n"
      ]
    },
    {
      "cell_type": "code",
      "execution_count": null,
      "metadata": {
        "tags": [],
        "id": "ly7pNJWsOd93",
        "outputId": "b776a59b-8f0c-44bf-fd9a-51a4c4b541ce"
      },
      "outputs": [
        {
          "name": "stdout",
          "output_type": "stream",
          "text": [
            "What is the value on 3rd-column last two rows?  tensor([23, 33])\n"
          ]
        }
      ],
      "source": [
        "# Use tensor_obj[begin_row_number: end_row_number, begin_column_number: end_column number]\n",
        "\n",
        "tensor_example = torch.tensor([[11, 12, 13], [21, 22, 23], [31, 32, 33]])\n",
        "print(\"What is the value on 3rd-column last two rows? \", tensor_example[1:3, 2])"
      ]
    },
    {
      "cell_type": "markdown",
      "metadata": {
        "id": "GSvv-LTLOd94"
      },
      "source": [
        "Fortunately, the code <code>tensor_obj[begin_row_number: end_row_number, begin_column_number: end_column number]</code> is still works.\n"
      ]
    },
    {
      "cell_type": "markdown",
      "metadata": {
        "id": "uEjKxEeKOd94"
      },
      "source": [
        "<!--Empty Space for separating topics-->\n"
      ]
    },
    {
      "cell_type": "markdown",
      "metadata": {
        "id": "AD9b1_SLOd94"
      },
      "source": [
        "<h3>Practice</h3>\n"
      ]
    },
    {
      "cell_type": "markdown",
      "metadata": {
        "id": "Bq4pE-1_Od94"
      },
      "source": [
        "Try to change the values on the second column and the last two rows to 0. Basically, change the values on <code>tensor_ques[1][1]</code> and <code>tensor_ques[2][1]</code> to 0.\n"
      ]
    },
    {
      "cell_type": "code",
      "execution_count": null,
      "metadata": {
        "tags": [],
        "id": "2hF56yD7Od95",
        "outputId": "d9a3fbad-7bf1-496b-a303-cce5c3f188fb"
      },
      "outputs": [
        {
          "data": {
            "text/plain": [
              "tensor([[11, 12, 13],\n",
              "        [21,  0, 23],\n",
              "        [31,  0, 33]])"
            ]
          },
          "execution_count": 16,
          "metadata": {},
          "output_type": "execute_result"
        }
      ],
      "source": [
        "# Practice: Use slice and index to change the values on the matrix tensor_ques.\n",
        "\n",
        "tensor_ques = torch.tensor([[11, 12, 13],\n",
        "                            [21, 22, 23],\n",
        "                            [31, 32, 33]])\n",
        "\n",
        "tensor_ques[1:3, 1] = 0\n",
        "\n",
        "tensor_ques\n"
      ]
    },
    {
      "cell_type": "markdown",
      "metadata": {
        "id": "1w-A5ydeOd95"
      },
      "source": [
        "<!--Empty Space for separating topics-->\n"
      ]
    },
    {
      "cell_type": "markdown",
      "metadata": {
        "id": "n3jdSChGOd95"
      },
      "source": [
        "<h2 id=\"Tensor_Op\">Tensor Operations</h2>\n"
      ]
    },
    {
      "cell_type": "markdown",
      "metadata": {
        "id": "yGQq4WhNOd95"
      },
      "source": [
        "We can also do some calculations on 2D tensors.\n"
      ]
    },
    {
      "cell_type": "markdown",
      "metadata": {
        "id": "Az0UJD6yOd96"
      },
      "source": [
        "<!--Empty Space for separating topics-->\n"
      ]
    },
    {
      "cell_type": "markdown",
      "metadata": {
        "id": "8N_hlzVpOd96"
      },
      "source": [
        "<h3>Tensor Addition</h3>\n"
      ]
    },
    {
      "cell_type": "markdown",
      "metadata": {
        "id": "A31qlFWxOd96"
      },
      "source": [
        "You can also add tensors; the process is identical to matrix addition. Matrix addition of <b>X</b> and <b>Y</b> is shown in the following figure:\n"
      ]
    },
    {
      "cell_type": "markdown",
      "metadata": {
        "id": "3tlzM2ALOd96"
      },
      "source": [
        "<img src=\"https://s3-api.us-geo.objectstorage.softlayer.net/cf-courses-data/CognitiveClass/DL0110EN/notebook_images%20/chapter%201/1.2add.png\" width=\"500\" alt=\"Tensor Addition in 2D\">\n"
      ]
    },
    {
      "cell_type": "markdown",
      "metadata": {
        "id": "1zpN8gYZOd97"
      },
      "source": [
        "Let us see how tensor addition works with <code>X</code> and <code>Y</code>.\n"
      ]
    },
    {
      "cell_type": "code",
      "execution_count": null,
      "metadata": {
        "tags": [],
        "id": "xNgyQaMpOd97",
        "outputId": "14aebb4b-2a8f-438e-93ad-3a51cf1d2a85"
      },
      "outputs": [
        {
          "name": "stdout",
          "output_type": "stream",
          "text": [
            "The result of X + Y:  tensor([[3, 1],\n",
            "        [1, 3]])\n"
          ]
        }
      ],
      "source": [
        "# Calculate [[1, 0], [0, 1]] + [[2, 1], [1, 2]]\n",
        "\n",
        "X = torch.tensor([[1, 0],[0, 1]])\n",
        "Y = torch.tensor([[2, 1],[1, 2]])\n",
        "X_plus_Y = X + Y\n",
        "print(\"The result of X + Y: \", X_plus_Y)"
      ]
    },
    {
      "cell_type": "markdown",
      "metadata": {
        "id": "YFvISJKpOd97"
      },
      "source": [
        "Like the result shown in the picture above. The result is <code>[[3, 1], [1, 3]]</code>\n"
      ]
    },
    {
      "cell_type": "markdown",
      "metadata": {
        "id": "e-q6o0H_Od97"
      },
      "source": [
        "<!--Empty Space for separating topics-->\n"
      ]
    },
    {
      "cell_type": "markdown",
      "metadata": {
        "id": "JsVEu8ECOd97"
      },
      "source": [
        "<h3> Scalar Multiplication </h3>\n"
      ]
    },
    {
      "cell_type": "markdown",
      "metadata": {
        "id": "PvBg3GMMOd98"
      },
      "source": [
        "Multiplying a tensor by a scalar is identical to multiplying a matrix by a scaler. If you multiply the matrix <b>Y</b> by the scalar 2, you simply multiply every element in the matrix by 2 as shown in the figure:\n"
      ]
    },
    {
      "cell_type": "markdown",
      "metadata": {
        "id": "7kXpkmiUOd98"
      },
      "source": [
        "<img src=\"https://s3-api.us-geo.objectstorage.softlayer.net/cf-courses-data/CognitiveClass/DL0110EN/notebook_images%20/chapter%201/1.2scaller_mult.png\" width=\"500\" alt=\"The product of tensor and scalar\">\n"
      ]
    },
    {
      "cell_type": "markdown",
      "metadata": {
        "id": "GUM9xNMtOd98"
      },
      "source": [
        "Let us try to calculate the product of <b>2Y</b>.\n"
      ]
    },
    {
      "cell_type": "code",
      "execution_count": null,
      "metadata": {
        "tags": [],
        "id": "0pTS3zzTOd98",
        "outputId": "0281bcec-be4f-4557-c91b-0455d757478b"
      },
      "outputs": [
        {
          "name": "stdout",
          "output_type": "stream",
          "text": [
            "The result of 2Y:  tensor([[4, 2],\n",
            "        [2, 4]])\n"
          ]
        }
      ],
      "source": [
        "# Calculate 2 * [[2, 1], [1, 2]]\n",
        "\n",
        "Y = torch.tensor([[2, 1], [1, 2]])\n",
        "two_Y = 2 * Y\n",
        "print(\"The result of 2Y: \", two_Y)"
      ]
    },
    {
      "cell_type": "markdown",
      "metadata": {
        "id": "tugN3LrzOd99"
      },
      "source": [
        "<!--Empty Space for separating topics-->\n"
      ]
    },
    {
      "cell_type": "markdown",
      "metadata": {
        "id": "Eyn30iZaOd99"
      },
      "source": [
        "<h3>Element-wise Product/Hadamard Product</h3>\n"
      ]
    },
    {
      "cell_type": "markdown",
      "metadata": {
        "id": "lMBY2oH5Od9-"
      },
      "source": [
        "Multiplication of two tensors corresponds to an element-wise product or Hadamard product.  Consider matrix the <b>X</b> and <b>Y</b> with the same size. The Hadamard product corresponds to multiplying each of the elements at the same position, that is, multiplying elements with the same color together. The result is a new matrix that is the same size as matrix <b>X</b> and <b>Y</b> as shown in the following figure:\n"
      ]
    },
    {
      "cell_type": "markdown",
      "metadata": {
        "id": "eufiHhvTOd9-"
      },
      "source": [
        " <a><img src=\"https://s3-api.us-geo.objectstorage.softlayer.net/cf-courses-data/CognitiveClass/DL0110EN/notebook_images%20/chapter%201/1.2tensor_pruduct.png\" width=\"500\" align=\"center\"> </a>\n"
      ]
    },
    {
      "cell_type": "markdown",
      "metadata": {
        "id": "XRSY1gL1Od9-"
      },
      "source": [
        "The code below calculates the element-wise product of the tensor <strong>X</strong> and <strong>Y</strong>:\n"
      ]
    },
    {
      "cell_type": "code",
      "execution_count": null,
      "metadata": {
        "tags": [],
        "id": "GDmyOQDEOd9_",
        "outputId": "bc70f033-9946-4849-d947-ebca8060de59"
      },
      "outputs": [
        {
          "name": "stdout",
          "output_type": "stream",
          "text": [
            "The result of X * Y:  tensor([[2, 0],\n",
            "        [0, 2]])\n"
          ]
        }
      ],
      "source": [
        "# Calculate [[1, 0], [0, 1]] * [[2, 1], [1, 2]]\n",
        "\n",
        "X = torch.tensor([[1, 0], [0, 1]])\n",
        "Y = torch.tensor([[2, 1], [1, 2]])\n",
        "X_times_Y = X * Y\n",
        "print(\"The result of X * Y: \", X_times_Y)"
      ]
    },
    {
      "cell_type": "markdown",
      "metadata": {
        "id": "5xBNEHSmOd9_"
      },
      "source": [
        "This is a simple calculation. The result from the code matches the result shown in the picture.\n"
      ]
    },
    {
      "cell_type": "markdown",
      "metadata": {
        "id": "Fe3wnOnZOd9_"
      },
      "source": [
        "<!--Empty Space for separating topics-->\n"
      ]
    },
    {
      "cell_type": "markdown",
      "metadata": {
        "id": "gxmtEgr_Od9_"
      },
      "source": [
        "<h3>Matrix Multiplication </h3>\n"
      ]
    },
    {
      "cell_type": "markdown",
      "metadata": {
        "id": "oifSJ_GAOd-A"
      },
      "source": [
        "We can also apply matrix multiplication to two tensors, if you have learned linear algebra, you should know that in the multiplication of two matrices order matters. This means if <i>X * Y</i> is valid, it does not mean <i>Y * X</i> is valid. The number of columns of the matrix on the left side of the multiplication sign must equal to the number of rows of the matrix on the right side.\n"
      ]
    },
    {
      "cell_type": "markdown",
      "metadata": {
        "id": "reojJnpJOd-A"
      },
      "source": [
        "First, let us create a tensor <code>X</code> with size 2X3. Then, let us create another tensor <code>Y</code> with size 3X2. Since the number of columns of <code>X</code> is equal to the number of rows of <code>Y</code>. We are able to perform the multiplication.\n"
      ]
    },
    {
      "cell_type": "markdown",
      "metadata": {
        "id": "QInUBVKQOd-A"
      },
      "source": [
        "We use <code>torch.mm()</code> for calculating the multiplication between tensors with different sizes.\n"
      ]
    },
    {
      "cell_type": "code",
      "execution_count": null,
      "metadata": {
        "tags": [],
        "id": "pMNM6QtsOd-A",
        "outputId": "e5fd8a4c-65a1-4c02-d5f5-cf9e17ee7b7a"
      },
      "outputs": [
        {
          "name": "stdout",
          "output_type": "stream",
          "text": [
            "The result of A * B:  tensor([[0, 2],\n",
            "        [0, 2]])\n"
          ]
        }
      ],
      "source": [
        "# Calculate [[0, 1, 1], [1, 0, 1]] * [[1, 1], [1, 1], [-1, 1]]\n",
        "\n",
        "A = torch.tensor([[0, 1, 1], [1, 0, 1]])\n",
        "B = torch.tensor([[1, 1], [1, 1], [-1, 1]])\n",
        "A_times_B = torch.mm(A,B)\n",
        "print(\"The result of A * B: \", A_times_B)"
      ]
    },
    {
      "cell_type": "markdown",
      "metadata": {
        "id": "pFuxca67Od-B"
      },
      "source": [
        "<!--Empty Space for separating topics-->\n"
      ]
    },
    {
      "cell_type": "markdown",
      "metadata": {
        "id": "3XEZhr7ZOd-B"
      },
      "source": [
        "<h3>Practice</h3>\n"
      ]
    },
    {
      "cell_type": "markdown",
      "metadata": {
        "id": "-2i8G9iLOd-B"
      },
      "source": [
        "Try to create your own two tensors (<code>X</code> and <code>Y</code>) with different sizes, and multiply them.\n"
      ]
    },
    {
      "cell_type": "code",
      "execution_count": null,
      "metadata": {
        "tags": [],
        "id": "0AoAo65wOd-B",
        "outputId": "8c6921b6-eda1-469a-85ba-46b3065b5878"
      },
      "outputs": [
        {
          "data": {
            "text/plain": [
              "tensor([[ 5,  5],\n",
              "        [10, 10]])"
            ]
          },
          "execution_count": 24,
          "metadata": {},
          "output_type": "execute_result"
        }
      ],
      "source": [
        "# Practice: Calculate the product of two tensors (X and Y) with different sizes\n",
        "\n",
        "tensor_a = torch.tensor([[3, 2, 1], [4,2,3]])\n",
        "tensor_b = torch.tensor([[1, 1], [0,0], [2, 2]])\n",
        "\n",
        "a_times_b = torch.mm(tensor_a, tensor_b)\n",
        "\n",
        "a_times_b\n",
        "\n",
        "# Type your code here"
      ]
    },
    {
      "cell_type": "markdown",
      "metadata": {
        "id": "KU1KY1vuOd-B"
      },
      "source": [
        "Double-click <b>here</b> for the solution.\n",
        "\n",
        "<!--\n",
        "X = torch.tensor([[0, 1], [1, 2]])\n",
        "Y = torch.tensor([[-1, -2, 0], [2, 1, 2]])\n",
        "X_times_Y = torch.mm(X, Y)\n",
        "print(\"The result of X * Y: \", X_times_Y)\n",
        "-->\n"
      ]
    },
    {
      "cell_type": "markdown",
      "metadata": {
        "id": "oceHrxUqOd-C"
      },
      "source": [
        "<a href=\"https://dataplatform.cloud.ibm.com/registration/stepone?utm_source=skills_network&utm_content=in_lab_content_link&utm_id=Lab-IBMDeveloperSkillsNetwork-DL0110EN-SkillsNetwork&context=cpdaas&apps=data_science_experience%2Cwatson_machine_learning\"><img src=\"https://cf-courses-data.s3.us.cloud-object-storage.appdomain.cloud/IBMDeveloperSkillsNetwork-DL0110EN-SkillsNetwork/Template/module%201/images/Watson_Studio.png\"></a>\n"
      ]
    },
    {
      "cell_type": "markdown",
      "metadata": {
        "id": "tzAJbz7fOd-C"
      },
      "source": [
        "<!--Empty Space for separating topics-->\n"
      ]
    },
    {
      "cell_type": "markdown",
      "metadata": {
        "id": "8fLhbXO_Od-C"
      },
      "source": [
        "<h2>About the Authors:</h2>\n",
        "\n",
        "<a href=\"https://www.linkedin.com/in/joseph-s-50398b136/\">Joseph Santarcangelo</a> has a PhD in Electrical Engineering, his research focused on using machine learning, signal processing, and computer vision to determine how videos impact human cognition. Joseph has been working for IBM since he completed his PhD.\n"
      ]
    },
    {
      "cell_type": "markdown",
      "metadata": {
        "id": "1hCS8YihOd-D"
      },
      "source": [
        "Other contributors: <a href=\"https://www.linkedin.com/in/michelleccarey/\">Michelle Carey</a>, <a href=\"www.linkedin.com/in/jiahui-mavis-zhou-a4537814a\">Mavis Zhou</a>\n"
      ]
    },
    {
      "cell_type": "markdown",
      "metadata": {
        "id": "U8OCOSvMOd-D"
      },
      "source": [
        "<!--\n",
        "## Change Log\n",
        "\n",
        "|  Date (YYYY-MM-DD) |  Version | Changed By  |  Change Description |\n",
        "|---|---|---|---|\n",
        "| 2020-09-21  | 2.0  | Shubham  |  Migrated Lab to Markdown and added to course repo in GitLab |\n",
        "\n",
        "-->\n"
      ]
    },
    {
      "cell_type": "markdown",
      "metadata": {
        "id": "i_YrvePKOd-D"
      },
      "source": [
        "<hr>\n"
      ]
    },
    {
      "cell_type": "markdown",
      "metadata": {
        "id": "wCQiez_COd-D"
      },
      "source": [
        "## <h3 align=\"center\"> &#169; IBM Corporation. All rights reserved. <h3/>\n"
      ]
    }
  ],
  "metadata": {
    "kernelspec": {
      "display_name": "Python",
      "language": "python",
      "name": "conda-env-python-py"
    },
    "language_info": {
      "codemirror_mode": {
        "name": "ipython",
        "version": 3
      },
      "file_extension": ".py",
      "mimetype": "text/x-python",
      "name": "python",
      "nbconvert_exporter": "python",
      "pygments_lexer": "ipython3",
      "version": "3.7.12"
    },
    "colab": {
      "provenance": [],
      "include_colab_link": true
    }
  },
  "nbformat": 4,
  "nbformat_minor": 0
}